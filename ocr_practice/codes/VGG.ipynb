{
 "cells": [
  {
   "cell_type": "markdown",
   "metadata": {},
   "source": [
    "### Data Preprocessing"
   ]
  },
  {
   "cell_type": "code",
   "execution_count": null,
   "metadata": {},
   "outputs": [],
   "source": []
  },
  {
   "cell_type": "code",
   "execution_count": null,
   "metadata": {},
   "outputs": [],
   "source": []
  },
  {
   "cell_type": "markdown",
   "metadata": {},
   "source": [
    "### CNN Generating"
   ]
  },
  {
   "cell_type": "code",
   "execution_count": 1,
   "metadata": {},
   "outputs": [
    {
     "name": "stdout",
     "output_type": "stream",
     "text": [
      "WARNING:tensorflow:From d:\\Programming\\Project\\.conda\\Lib\\site-packages\\keras\\src\\losses.py:2976: The name tf.losses.sparse_softmax_cross_entropy is deprecated. Please use tf.compat.v1.losses.sparse_softmax_cross_entropy instead.\n",
      "\n"
     ]
    }
   ],
   "source": [
    "from tensorflow.keras.applications import VGG16\n",
    "from tensorflow.keras.applications.vgg16 import decode_predictions"
   ]
  },
  {
   "cell_type": "code",
   "execution_count": 2,
   "metadata": {},
   "outputs": [
    {
     "name": "stdout",
     "output_type": "stream",
     "text": [
      "WARNING:tensorflow:From d:\\Programming\\Project\\.conda\\Lib\\site-packages\\keras\\src\\backend.py:1398: The name tf.executing_eagerly_outside_functions is deprecated. Please use tf.compat.v1.executing_eagerly_outside_functions instead.\n",
      "\n",
      "WARNING:tensorflow:From d:\\Programming\\Project\\.conda\\Lib\\site-packages\\keras\\src\\layers\\pooling\\max_pooling2d.py:161: The name tf.nn.max_pool is deprecated. Please use tf.nn.max_pool2d instead.\n",
      "\n",
      "Downloading data from https://storage.googleapis.com/tensorflow/keras-applications/vgg16/vgg16_weights_tf_dim_ordering_tf_kernels.h5\n",
      "553467096/553467096 [==============================] - 233s 0us/step\n"
     ]
    }
   ],
   "source": [
    "model = VGG16()"
   ]
  },
  {
   "cell_type": "code",
   "execution_count": null,
   "metadata": {},
   "outputs": [],
   "source": [
    "import tensorflow as tf\n",
    "from tensorflow.keras import layers"
   ]
  },
  {
   "cell_type": "code",
   "execution_count": null,
   "metadata": {},
   "outputs": [],
   "source": [
    "class VGG16_Custom(tf.keras.Model):\n",
    "    def __init__(self):\n",
    "        super(VGG16_Custom, self).__init__()\n",
    "\n",
    "        # Convolutional Layer 1\n",
    "        self.conv1 = layers.Conv2D(filters=64, kernel_size=(3,3), padding='same', activation='relu', input_shape=(224,224,3))\n",
    "        self.conv2 = layers.Conv2D(filters=128, kernel_size=(3, 3), padding='same', activation='relu')\n",
    "        self.conv3 = layers.Conv2D(filters=256, kernel_size=(3, 3), padding='same', activation='relu')\n",
    "        self.conv4 = layers.Conv2D(filters=512, kernel_size=(3, 3), padding='same', activation='relu')\n",
    "\n",
    "        # Max pooling\n",
    "        self.pooling = layers.MaxPool2D(pool_size=(2,2), strides=(2,2))\n",
    "        \n",
    "        # Fully-connected Layers\n",
    "        self.flatten = layers.Flatten()\n",
    "        self.fc1 = layers.Dense(4096, activation='relu')\n",
    "        self.fc2 = layers.Dense(1000, activation='softmax')\n",
    "\n",
    "    def call(self, inputs):\n",
    "        x = self.conv1(inputs)\n",
    "        x = self.conv1(x)\n",
    "        x = self.pooling(x)\n",
    "\n",
    "        x = self.conv2(x)\n",
    "        x = self.conv2(x)\n",
    "        x = self.pooling(x)\n",
    "\n",
    "        x = self.conv3(x)\n",
    "        x = self.conv3(x)\n",
    "        x = self.conv3(x)\n",
    "        x = self.pooling(x)\n",
    "\n",
    "        x = self.conv4(x)\n",
    "        x = self.conv4(x)\n",
    "        x = self.conv4(x)\n",
    "        x = self.conv4(x)\n",
    "        x = self.pooling(x)\n",
    "\n",
    "        x = self.conv4(x)\n",
    "        x = self.conv4(x)\n",
    "        x = self.conv4(x)\n",
    "        x = self.conv4(x)\n",
    "        x = self.pooling(x)\n",
    "\n",
    "        x = self.flatten(x)\n",
    "        x = self.fc1(x)\n",
    "        x = self.fc1(x)\n",
    "        x = self.fc2(x)\n",
    "\n",
    "        return x"
   ]
  },
  {
   "cell_type": "code",
   "execution_count": null,
   "metadata": {},
   "outputs": [],
   "source": [
    "class VGG19_Cumstom(tf.keras.layers):\n",
    "    def __init__(self):\n",
    "        super(VGG19_Cumstom, self).__init__()\n",
    "        \n",
    "        # Conv2D layer\n",
    "        self.conv1 = layers.Conv2D(input_shape=(244,244,3), filters=64, pooling='same', kernel_size=(3,3), activation='relu')\n",
    "        self.conv2 = layers.Conv2D(filters=128, pooling='same', kernel_size=(3,3), activation='relu')\n",
    "        self.conv3 = layers.Conv2D(filters=256, pooling='same', kernel_size=(3,3), activation='relu')\n",
    "        self.conv4 = layers.Conv2D(filters=512, pooling='same', kernel_size=(3,3), activation='relu')\n",
    "        \n",
    "        # Max Pooling\n",
    "        self.pooling = layers.MaxPool2D(pool_size=(2,2), strides=(2,2))\n",
    "\n",
    "        # Full-connected layer\n",
    "        self.flatten = layers.Flatten()\n",
    "        self.fc1 = layers.Dense(4096, activation='relu')\n",
    "        self.fc2 = layers.Dense(1000, activation='softmax')\n",
    "\n",
    "    def call(self, inputs):\n",
    "        x = self.conv1(input)\n",
    "        x = self.conv1(x)\n",
    "        x = self.pooling(x)\n",
    "\n",
    "        x = self.conv2(x)\n",
    "        x = self.conv2(x)\n",
    "        x = self.pooling(x)\n",
    "\n",
    "        x = self.conv3(x)\n",
    "        x = self.conv3(x)\n",
    "        x = self.conv3(x)\n",
    "        x = self.pooling(x)\n",
    "\n",
    "        x = self.conv4(x)\n",
    "        x = self.conv4(x)\n",
    "        x = self.conv4(x)\n",
    "        x = self.pooling(x)\n",
    "\n",
    "        x = self.conv4(x)\n",
    "        x = self.conv4(x)\n",
    "        x = self.conv4(x)\n",
    "        x = self.pooling(x)\n",
    "\n",
    "        x = self.flatten(x)\n",
    "        x = self.fc1(x)\n",
    "        x = self.fc1(x)\n",
    "        x = self.fc2(x)\n",
    "        \n",
    "        return x"
   ]
  },
  {
   "cell_type": "markdown",
   "metadata": {},
   "source": [
    "### Model Training"
   ]
  },
  {
   "cell_type": "code",
   "execution_count": null,
   "metadata": {},
   "outputs": [],
   "source": []
  },
  {
   "cell_type": "code",
   "execution_count": null,
   "metadata": {},
   "outputs": [],
   "source": []
  },
  {
   "cell_type": "code",
   "execution_count": null,
   "metadata": {},
   "outputs": [],
   "source": []
  },
  {
   "cell_type": "code",
   "execution_count": null,
   "metadata": {},
   "outputs": [],
   "source": []
  },
  {
   "cell_type": "code",
   "execution_count": null,
   "metadata": {},
   "outputs": [],
   "source": []
  }
 ],
 "metadata": {
  "kernelspec": {
   "display_name": "Python 3",
   "language": "python",
   "name": "python3"
  },
  "language_info": {
   "codemirror_mode": {
    "name": "ipython",
    "version": 3
   },
   "file_extension": ".py",
   "mimetype": "text/x-python",
   "name": "python",
   "nbconvert_exporter": "python",
   "pygments_lexer": "ipython3",
   "version": "3.11.5"
  }
 },
 "nbformat": 4,
 "nbformat_minor": 2
}
